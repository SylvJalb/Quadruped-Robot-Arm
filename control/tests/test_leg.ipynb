{
 "cells": [
  {
   "cell_type": "code",
   "execution_count": null,
   "metadata": {},
   "outputs": [],
   "source": [
    "import odrive\n",
    "from odrive.enums import *\n",
    "import sys\n",
    "sys.path.append('../')\n",
    "from setup import *\n",
    "from motor import *\n",
    "from env import *"
   ]
  },
  {
   "cell_type": "code",
   "execution_count": null,
   "metadata": {},
   "outputs": [],
   "source": [
    "# Find a connected ODrive (this will block until you connect one)\n",
    "print(\"Searching for ODrives cards...\")\n",
    "oDrive1, oDrive2 = find_odrives()\n",
    "\n",
    "shoulder = oDrive1.axis0\n",
    "arm = oDrive2.axis1\n",
    "forearm = oDrive2.axis0"
   ]
  },
  {
   "cell_type": "code",
   "execution_count": null,
   "metadata": {},
   "outputs": [],
   "source": [
    "# Config motors\n",
    "setup_odrive(shoulder)\n",
    "setup_odrive(arm)\n",
    "setup_odrive(forearm)"
   ]
  },
  {
   "cell_type": "code",
   "execution_count": null,
   "metadata": {},
   "outputs": [],
   "source": [
    "# Run calibration\n",
    "print(\"Press Enter to start calibration\")\n",
    "run_calibration(shoulder)\n",
    "run_calibration(arm)\n",
    "run_calibration(forearm)"
   ]
  },
  {
   "cell_type": "code",
   "execution_count": null,
   "metadata": {},
   "outputs": [],
   "source": [
    "# Block motors\n",
    "blocked_motor_mode(shoulder)\n",
    "blocked_motor_mode(arm)\n",
    "blocked_motor_mode(forearm)"
   ]
  },
  {
   "cell_type": "code",
   "execution_count": null,
   "metadata": {},
   "outputs": [],
   "source": [
    "# Run test\n",
    "go_to_position(shoulder, 0)\n",
    "go_to_position(arm, 0)\n",
    "go_to_position(forearm, 0)"
   ]
  }
 ],
 "metadata": {
  "kernelspec": {
   "display_name": "Python 3.9.2 32-bit",
   "language": "python",
   "name": "python3"
  },
  "language_info": {
   "codemirror_mode": {
    "name": "ipython",
    "version": 3
   },
   "file_extension": ".py",
   "mimetype": "text/x-python",
   "name": "python",
   "nbconvert_exporter": "python",
   "pygments_lexer": "ipython3",
   "version": "3.9.2"
  },
  "orig_nbformat": 4,
  "vscode": {
   "interpreter": {
    "hash": "767d51c1340bd893661ea55ea3124f6de3c7a262a8b4abca0554b478b1e2ff90"
   }
  }
 },
 "nbformat": 4,
 "nbformat_minor": 2
}
