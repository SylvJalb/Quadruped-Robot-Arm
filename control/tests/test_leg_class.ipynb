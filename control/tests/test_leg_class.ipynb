{
 "cells": [
  {
   "cell_type": "code",
   "execution_count": 1,
   "metadata": {},
   "outputs": [
    {
     "name": "stdout",
     "output_type": "stream",
     "text": [
      "Warning: Cannot change to a different GUI toolkit: notebook. Using tk instead.\n"
     ]
    }
   ],
   "source": [
    "%matplotlib tk\n",
    "%matplotlib notebook\n",
    "\n",
    "import sys\n",
    "sys.path.append('../')\n",
    "from params import *\n",
    "from leg import Leg, Position\n",
    "from prints import fig_leg\n",
    "import matplotlib"
   ]
  },
  {
   "cell_type": "code",
   "execution_count": 2,
   "metadata": {},
   "outputs": [
    {
     "name": "stdout",
     "output_type": "stream",
     "text": [
      "AC_2D is normaly (0,0,0) :\n",
      "\tcheck -> x=0.0, y=0.0, z=0\n",
      "x=50.0, y=0, z=0.0\n",
      "0.0\n",
      "x=0, y=0, z=0\n"
     ]
    }
   ],
   "source": [
    "foot_pos = Position(50, 0, -300)\n",
    "my_leg = Leg(foot_pos)\n",
    "print(my_leg.arm_pos)\n",
    "print(my_leg.shoulder_angle)\n",
    "print(my_leg.shoulder_pos)"
   ]
  },
  {
   "cell_type": "code",
   "execution_count": 3,
   "metadata": {},
   "outputs": [],
   "source": [
    "fig = fig_leg(my_leg)\n",
    "fig.show()"
   ]
  }
 ],
 "metadata": {
  "kernelspec": {
   "display_name": "Python 3.10.0 64-bit ('3.10.0')",
   "language": "python",
   "name": "python3"
  },
  "language_info": {
   "codemirror_mode": {
    "name": "ipython",
    "version": 3
   },
   "file_extension": ".py",
   "mimetype": "text/x-python",
   "name": "python",
   "nbconvert_exporter": "python",
   "pygments_lexer": "ipython3",
   "version": "3.10.0"
  },
  "orig_nbformat": 4,
  "vscode": {
   "interpreter": {
    "hash": "7ca5a1e123733b76bdd97e5d9034fc9a426a5f6c058b955efec2ecffca90eccb"
   }
  }
 },
 "nbformat": 4,
 "nbformat_minor": 2
}
