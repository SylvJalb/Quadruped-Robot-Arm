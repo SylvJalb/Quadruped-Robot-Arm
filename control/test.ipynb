{
 "cells": [
  {
   "cell_type": "code",
   "execution_count": 1,
   "metadata": {},
   "outputs": [],
   "source": [
    "import odrive\n",
    "from odrive.enums import *\n",
    "from setup import *\n",
    "from motor import *"
   ]
  },
  {
   "cell_type": "markdown",
   "metadata": {},
   "source": [
    "# Connect to motor card"
   ]
  },
  {
   "cell_type": "code",
   "execution_count": 2,
   "metadata": {},
   "outputs": [
    {
     "name": "stdout",
     "output_type": "stream",
     "text": [
      "Finding an odrive...\n",
      "Found odrive :  53155459575856\n",
      "\tBus voltage is 24.308496475219727V\n"
     ]
    }
   ],
   "source": [
    "# Find a connected ODrive (this will block until you connect one)\n",
    "my_drive = find_odrive()"
   ]
  },
  {
   "cell_type": "markdown",
   "metadata": {},
   "source": [
    "# Config motor card"
   ]
  },
  {
   "cell_type": "code",
   "execution_count": 3,
   "metadata": {},
   "outputs": [],
   "source": [
    "setup_odrive(my_drive.axis0)"
   ]
  },
  {
   "cell_type": "markdown",
   "metadata": {},
   "source": [
    "# Run calibration"
   ]
  },
  {
   "cell_type": "code",
   "execution_count": null,
   "metadata": {},
   "outputs": [],
   "source": [
    "run_calibration(my_drive.axis0)"
   ]
  },
  {
   "cell_type": "code",
   "execution_count": 4,
   "metadata": {},
   "outputs": [],
   "source": [
    "blocked_motor_mode(my_drive.axis0)"
   ]
  },
  {
   "cell_type": "markdown",
   "metadata": {},
   "source": [
    "# Move motor to position"
   ]
  },
  {
   "cell_type": "code",
   "execution_count": 7,
   "metadata": {},
   "outputs": [
    {
     "name": "stdout",
     "output_type": "stream",
     "text": [
      "Go to position: 360°\n"
     ]
    }
   ],
   "source": [
    "# do 1 revolution\n",
    "go_to_position(my_drive.axis0, 360)"
   ]
  },
  {
   "cell_type": "code",
   "execution_count": 8,
   "metadata": {},
   "outputs": [
    {
     "name": "stdout",
     "output_type": "stream",
     "text": [
      "Go to position: 0°\n"
     ]
    }
   ],
   "source": [
    "# return to 0\n",
    "go_to_position(my_drive.axis0, 0)"
   ]
  }
 ],
 "metadata": {
  "interpreter": {
   "hash": "7ca5a1e123733b76bdd97e5d9034fc9a426a5f6c058b955efec2ecffca90eccb"
  },
  "kernelspec": {
   "display_name": "Python 3.10.0 64-bit ('3.10.0')",
   "language": "python",
   "name": "python3"
  },
  "language_info": {
   "codemirror_mode": {
    "name": "ipython",
    "version": 3
   },
   "file_extension": ".py",
   "mimetype": "text/x-python",
   "name": "python",
   "nbconvert_exporter": "python",
   "pygments_lexer": "ipython3",
   "version": "3.10.0"
  },
  "orig_nbformat": 4
 },
 "nbformat": 4,
 "nbformat_minor": 2
}
